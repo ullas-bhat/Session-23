{
 "cells": [
  {
   "cell_type": "markdown",
   "id": "b12f7667",
   "metadata": {},
   "source": [
    "## Problem 1: The Curse of Dimensionality; or why self driving cars are hard.\n",
    "\n",
    "### 1a) Sampling in low dimensions\n",
    "\n",
    "Generate a sample of 100 randomly distributed points inside a 2D square. \n",
    "\n",
    "### 1b) Distances in low dimensions\n",
    "\n",
    "Calculate the pairwise distances between all of the points, in d-dimensions, for two points x_i and y_i, this quantity is\n",
    "\n",
    "$$ |x - y| = \\sqrt{\\Sigma (x_i - y_i)^2} $$\n",
    "\n",
    "### 1c) Distribution of distances in low dimensions \n",
    "\n",
    "Plot the distribution of these distances. Do you notice anything interesting? Is a \"special value\" picked out?\n",
    "\n",
    "### 1d) Extending to d-dimensions\n",
    "\n",
    "Now, let's consider the difference between picking a point located in a d-dimensional sphere vs in a d-dimensional cube. To do this, calculate and plot the the difference between the volume of a cube centered at the origin and going from [-1, 1] and the volume of a unit-radius sphere as the dimension d of the space increases. Possibly helpful formula: \n",
    "\n",
    "$$ Sphere: V_d = \\frac{\\pi^{d/2}}{\\frac{d}{2} \\Gamma(\\frac{d}{2})} R^d$$ \n",
    "\n",
    "where R is the radius of the sphere.\n",
    "\n",
    "$$ Cube: V_d = L^d $$\n",
    "\n",
    "and L is the length of a side.\n",
    "\n",
    "### 1e) Sampling in d-dimensions\n",
    "\n",
    "Now, consider the problem of sampling in high-dimensions. If we use a uniform prior on every parameter, our expectation is that we will well sample the parameter space simply by picking in a \"uniform way\". Calculate the ratio of volume contained in an annulus between $R$ and $R - \\epsilon$ for d = 1-20 and plot this. Interpret your result in terms of a sampling problem. Are uniform priors a good choice in higher dimensions? Why or why not?"
   ]
  },
  {
   "cell_type": "code",
   "execution_count": null,
   "id": "a130ff7f",
   "metadata": {},
   "outputs": [],
   "source": []
  }
 ],
 "metadata": {
  "kernelspec": {
   "display_name": "Python 3 (ipykernel)",
   "language": "python",
   "name": "python3"
  },
  "language_info": {
   "codemirror_mode": {
    "name": "ipython",
    "version": 3
   },
   "file_extension": ".py",
   "mimetype": "text/x-python",
   "name": "python",
   "nbconvert_exporter": "python",
   "pygments_lexer": "ipython3",
   "version": "3.9.12"
  }
 },
 "nbformat": 4,
 "nbformat_minor": 5
}
