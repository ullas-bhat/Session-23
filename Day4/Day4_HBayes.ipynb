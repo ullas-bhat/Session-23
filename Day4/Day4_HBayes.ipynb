{
 "cells": [
  {
   "cell_type": "markdown",
   "id": "28c2316d",
   "metadata": {},
   "source": [
    "# Problem 1: The Eight Schools\n",
    "\n",
    "Students at eight schools each participated in a test-prep program. After examination, the average score improvement $ \\Delta S$ for each school was recorded, along with the uncertainty on this measurement $ \\sigma( \\Delta S)$:\n",
    "\n",
    "   + $ \\Delta S$ = [28, 8, -3, 7, -1, 1, 18, 12]\n",
    "\n",
    "   + $ \\sigma( \\Delta S$) = [15, 10, 16, 11, 9, 11, 10, 18]\n",
    "\n",
    "\n",
    "a) Calculate the pooled mean improvement and uncertainty on the mean\n",
    "\n",
    "b) Fit the data using a hierarchical modeling. Assuming the score improvements $\\theta = \\Delta S$ were drawn from a population that can be modeled as a Gaussian with mean $\\mu$ and uncertainty $\\sigma$.\n",
    "\n",
    "* i. Draw your hyperparameters $\\alpha = \\{\\mu, \\sigma\\}$ from a Gaussian and Half-Cauchy distribution, respectively\n",
    "* ii. Test other choices of distributions for the hyper-priors and population. How sensitive are the results?\n",
    "\n",
    "Sample from the posterior using a sampling method of your choice. Test the sampler runs for convergence. Explore sampler behavior when using centered vs. off-centered parameterization."
   ]
  },
  {
   "cell_type": "code",
   "execution_count": 1,
   "id": "89439039",
   "metadata": {},
   "outputs": [],
   "source": [
    "import numpy as np\n",
    "import matplotlib.pyplot as plt\n",
    "import seaborn as sns\n",
    "import pandas as pd\n",
    "from scipy import stats"
   ]
  },
  {
   "cell_type": "code",
   "execution_count": 10,
   "id": "ecd2305e",
   "metadata": {},
   "outputs": [
    {
     "data": {
      "image/png": "[encoded data removed]",
      "text/plain": [
       "<Figure size 640x480 with 1 Axes>"
      ]
     },
     "metadata": {},
     "output_type": "display_data"
    }
   ],
   "source": [
    "improvement = np.array([28, 8, -3, 7, -1, 1, 18, 12])\n",
    "improvement_unc = np.array([15, 10, 16, 11, 9, 11, 10, 18])\n",
    "\n",
    "fig, ax = plt.subplots()\n",
    "ax.errorbar(\n",
    "    np.arange(len(improvement)),\n",
    "    improvement,\n",
    "    yerr=improvement_unc,\n",
    "    fmt=\"o\",\n",
    "    capsize=5,\n",
    "    capthick=2,\n",
    "    elinewidth=2,\n",
    ")\n",
    "plt.show()\n"
   ]
  },
  {
   "cell_type": "code",
   "execution_count": 11,
   "id": "d7572d34",
   "metadata": {},
   "outputs": [
    {
     "name": "stdout",
     "output_type": "stream",
     "text": [
      "Pooled stats: 7.69 ± 4.07\n"
     ]
    }
   ],
   "source": [
    "# Pooled statistics:\n",
    "weights = 1 / improvement_unc**2\n",
    "pooled_mean = np.average(improvement, weights=weights)\n",
    "pooled_unc = np.sqrt(1 / np.sum(weights))\n",
    "print(f\"Pooled stats: {pooled_mean:.2f} ± {pooled_unc:.2f}\")"
   ]
  },
  {
   "cell_type": "code",
   "execution_count": 12,
   "id": "ac32a1aa",
   "metadata": {},
   "outputs": [
    {
     "name": "stderr",
     "output_type": "stream",
     "text": [
      "WARNING (theano.link.c.cmodule): install mkl with `conda install mkl-service`: No module named 'mkl'\n",
      "<frozen importlib._bootstrap>:228: RuntimeWarning: numpy.ndarray size changed, may indicate binary incompatibility. Expected 16 from C header, got 88 from PyObject\n"
     ]
    }
   ],
   "source": [
    "import pymc3 as pm\n",
    "import pymc3_ext as pmx"
   ]
  },
  {
   "cell_type": "code",
   "execution_count": 38,
   "id": "4107fc80",
   "metadata": {},
   "outputs": [
    {
     "data": {
      "text/plain": [
       "'3.11.5'"
      ]
     },
     "execution_count": 38,
     "metadata": {},
     "output_type": "execute_result"
    }
   ],
   "source": [
    "pm.__version__"
   ]
  },
  {
   "cell_type": "code",
   "execution_count": null,
   "id": "37324289",
   "metadata": {},
   "outputs": [
    {
     "name": "stderr",
     "output_type": "stream",
     "text": [
      "Multiprocess sampling (4 chains in 4 jobs)\n",
      "NUTS: [score_offset, alpha_sigma, alpha_mu]\n"
     ]
    },
    {
     "data": {
      "text/html": [
       "\n",
       "<style>\n",
       "    /* Turns off some styling */\n",
       "    progress {\n",
       "        /* gets rid of default border in Firefox and Opera. */\n",
       "        border: none;\n",
       "        /* Needs to be in here for Safari polyfill so background images work as expected. */\n",
       "        background-size: auto;\n",
       "    }\n",
       "    progress:not([value]), progress:not([value])::-webkit-progress-bar {\n",
       "        background: repeating-linear-gradient(45deg, #7e7e7e, #7e7e7e 10px, #5c5c5c 10px, #5c5c5c 20px);\n",
       "    }\n",
       "    .progress-bar-interrupted, .progress-bar-interrupted::-webkit-progress-bar {\n",
       "        background: #F44336;\n",
       "    }\n",
       "</style>\n"
      ],
      "text/plain": [
       "<IPython.core.display.HTML object>"
      ]
     },
     "metadata": {},
     "output_type": "display_data"
    },
    {
     "data": {
      "text/html": [
       "\n",
       "    <div>\n",
       "      <progress value='24000' class='' max='24000' style='width:300px; height:20px; vertical-align: middle;'></progress>\n",
       "      100.00% [24000/24000 00:03&lt;00:00 Sampling 4 chains, 0 divergences]\n",
       "    </div>\n",
       "    "
      ],
      "text/plain": [
       "<IPython.core.display.HTML object>"
      ]
     },
     "metadata": {},
     "output_type": "display_data"
    },
    {
     "name": "stderr",
     "output_type": "stream",
     "text": [
      "/Users/ullas/miniconda3/envs/dsfp/lib/python3.9/site-packages/scipy/stats/_continuous_distns.py:624: RuntimeWarning: overflow encountered in _beta_ppf\n",
      "  return _boost._beta_ppf(q, a, b)\n",
      "/Users/ullas/miniconda3/envs/dsfp/lib/python3.9/site-packages/scipy/stats/_continuous_distns.py:624: RuntimeWarning: overflow encountered in _beta_ppf\n",
      "  return _boost._beta_ppf(q, a, b)\n",
      "/Users/ullas/miniconda3/envs/dsfp/lib/python3.9/site-packages/scipy/stats/_continuous_distns.py:624: RuntimeWarning: overflow encountered in _beta_ppf\n",
      "  return _boost._beta_ppf(q, a, b)\n",
      "/Users/ullas/miniconda3/envs/dsfp/lib/python3.9/site-packages/scipy/stats/_continuous_distns.py:624: RuntimeWarning: overflow encountered in _beta_ppf\n",
      "  return _boost._beta_ppf(q, a, b)\n",
      "Sampling 4 chains for 5_000 tune and 1_000 draw iterations (20_000 + 4_000 draws total) took 3 seconds.\n",
      "Multiprocess sampling (4 chains in 4 jobs)\n",
      "NUTS: [score_offset, alpha_sigma, alpha_mu]\n"
     ]
    },
    {
     "data": {
      "text/html": [
       "\n",
       "<style>\n",
       "    /* Turns off some styling */\n",
       "    progress {\n",
       "        /* gets rid of default border in Firefox and Opera. */\n",
       "        border: none;\n",
       "        /* Needs to be in here for Safari polyfill so background images work as expected. */\n",
       "        background-size: auto;\n",
       "    }\n",
       "    progress:not([value]), progress:not([value])::-webkit-progress-bar {\n",
       "        background: repeating-linear-gradient(45deg, #7e7e7e, #7e7e7e 10px, #5c5c5c 10px, #5c5c5c 20px);\n",
       "    }\n",
       "    .progress-bar-interrupted, .progress-bar-interrupted::-webkit-progress-bar {\n",
       "        background: #F44336;\n",
       "    }\n",
       "</style>\n"
      ],
      "text/plain": [
       "<IPython.core.display.HTML object>"
      ]
     },
     "metadata": {},
     "output_type": "display_data"
    },
    {
     "data": {
      "text/html": [
       "\n",
       "    <div>\n",
       "      <progress value='24000' class='' max='24000' style='width:300px; height:20px; vertical-align: middle;'></progress>\n",
       "      100.00% [24000/24000 00:02&lt;00:00 Sampling 4 chains, 1 divergences]\n",
       "    </div>\n",
       "    "
      ],
      "text/plain": [
       "<IPython.core.display.HTML object>"
      ]
     },
     "metadata": {},
     "output_type": "display_data"
    },
    {
     "name": "stderr",
     "output_type": "stream",
     "text": [
      "/Users/ullas/miniconda3/envs/dsfp/lib/python3.9/site-packages/scipy/stats/_continuous_distns.py:624: RuntimeWarning: overflow encountered in _beta_ppf\n",
      "  return _boost._beta_ppf(q, a, b)\n",
      "/Users/ullas/miniconda3/envs/dsfp/lib/python3.9/site-packages/scipy/stats/_continuous_distns.py:624: RuntimeWarning: overflow encountered in _beta_ppf\n",
      "  return _boost._beta_ppf(q, a, b)\n",
      "/Users/ullas/miniconda3/envs/dsfp/lib/python3.9/site-packages/scipy/stats/_continuous_distns.py:624: RuntimeWarning: overflow encountered in _beta_ppf\n",
      "  return _boost._beta_ppf(q, a, b)\n",
      "/Users/ullas/miniconda3/envs/dsfp/lib/python3.9/site-packages/scipy/stats/_continuous_distns.py:624: RuntimeWarning: overflow encountered in _beta_ppf\n",
      "  return _boost._beta_ppf(q, a, b)\n",
      "Sampling 4 chains for 5_000 tune and 1_000 draw iterations (20_000 + 4_000 draws total) took 3 seconds.\n",
      "There was 1 divergence after tuning. Increase `target_accept` or reparameterize.\n"
     ]
    },
    {
     "data": {
      "text/plain": [
       "<BarContainer object of 8 artists>"
      ]
     },
     "execution_count": 81,
     "metadata": {},
     "output_type": "execute_result"
    },
    {
     "data": {
      "image/png": "[encoded data removed]",
      "text/plain": [
       "<Figure size 1000x500 with 2 Axes>"
      ]
     },
     "metadata": {},
     "output_type": "display_data"
    }
   ],
   "source": [
    "with pm.Model() as model_normal:\n",
    "    alpha_mu = pm.Normal(\"alpha_mu\", mu=0, sd=15)\n",
    "    alpha_sigma_normal = pm.HalfNormal(\"alpha_sigma\", sigma=5)\n",
    "\n",
    "    score_offset = pm.Normal(\"score_offset\", mu=0, sd=1, shape=len(improvement))\n",
    "    score_model_normal = pm.Deterministic(\n",
    "        \"score_model_normal\", alpha_mu + alpha_sigma_normal * score_offset\n",
    "    )\n",
    "\n",
    "    lnl_normal = pm.Normal(\n",
    "        \"lnl\", mu=score_model_normal, sd=improvement_unc, observed=improvement\n",
    "    )\n",
    "\n",
    "with pm.Model() as model_cauchy:\n",
    "    alpha_mu = pm.Normal(\"alpha_mu\", mu=0, sd=15)\n",
    "    alpha_sigma_cauchy = pm.HalfCauchy(\"alpha_sigma\", beta=2)\n",
    "    score_offset = pm.Normal(\"score_offset\", mu=0, sd=1, shape=len(improvement))\n",
    "    score_model_cauchy = pm.Deterministic(\n",
    "        \"score_model_cauchy\", alpha_mu + alpha_sigma_cauchy * score_offset\n",
    "    )\n",
    "    lnl_cauchy = pm.Normal(\n",
    "        \"lnl\", mu=score_model_cauchy, sd=improvement_unc, observed=improvement\n",
    "    )\n",
    "\n",
    "with model_normal:\n",
    "    trace_normal = pmx.sample(\n",
    "        chains=4, tune=5000, draws=1000, target_accept=0.95, return_inferencedata=True\n",
    "    )\n",
    "\n",
    "with model_cauchy:\n",
    "    trace_cauchy = pmx.sample(\n",
    "        chains=4, tune=5000, draws=1000, target_accept=0.95, return_inferencedata=True\n",
    "    )"
   ]
  },
  {
   "cell_type": "code",
   "execution_count": 80,
   "id": "714ab9bc",
   "metadata": {},
   "outputs": [
    {
     "data": {
      "text/plain": [
       "<BarContainer object of 8 artists>"
      ]
     },
     "execution_count": 80,
     "metadata": {},
     "output_type": "execute_result"
    },
    {
     "data": {
      "image/png": "[encoded data removed]",
      "text/plain": [
       "<Figure size 1000x500 with 2 Axes>"
      ]
     },
     "metadata": {},
     "output_type": "display_data"
    }
   ],
   "source": [
    "fig, ax = plt.subplots(1, 2, sharey=True, figsize=(10, 5))  \n",
    "# ax[0].bar(np.arange(len(improvement)), improvement, yerr=improvement_unc, capsize=5)\n",
    "ax[0].bar(\n",
    "    np.arange(len(improvement)),\n",
    "    trace_normal.posterior.score_model_normal.to_numpy().reshape(-1, 8).mean(axis=0),\n",
    "    yerr=trace_normal.posterior.score_model_normal.to_numpy().reshape(-1, 8).std(axis=0),\n",
    "    capsize=5,\n",
    ")\n",
    "ax[1].bar(\n",
    "    np.arange(len(improvement)),\n",
    "    trace_cauchy.posterior.score_model_cauchy.to_numpy().reshape(-1, 8).mean(axis=0),\n",
    "    yerr=trace_cauchy.posterior.score_model_cauchy.to_numpy().reshape(-1, 8).std(axis=0),\n",
    "    capsize=5,\n",
    ")"
   ]
  },
  {
   "cell_type": "code",
   "execution_count": null,
   "id": "9a7192c2",
   "metadata": {},
   "outputs": [
    {
     "data": {
      "text/plain": [
       "<BarContainer object of 8 artists>"
      ]
     },
     "execution_count": 64,
     "metadata": {},
     "output_type": "execute_result"
    },
    {
     "data": {
      "image/png": "[encoded data removed]",
      "text/plain": [
       "<Figure size 1000x500 with 2 Axes>"
      ]
     },
     "metadata": {},
     "output_type": "display_data"
    }
   ],
   "source": [
    "fig, ax = plt.subplots(1, 2, sharey=True, figsize=(10, 5))  \n",
    "ax[0].bar(np.arange(len(improvement)), improvement, yerr=improvement_unc, capsize=5)\n",
    "ax[1].bar(\n",
    "    np.arange(len(improvement)),\n",
    "    trace.posterior.score_model.to_numpy().reshape(-1, 8).mean(axis=0),\n",
    "    yerr=trace.posterior.score_model.to_numpy().reshape(-1, 8).std(axis=0),\n",
    "    capsize=5,\n",
    ")"
   ]
  },
  {
   "cell_type": "markdown",
   "id": "dcd8f576",
   "metadata": {},
   "source": [
    "# Problem 2: The Five Districts\n",
    "\n",
    "The test-prep program was expanded across five districts, for a total of 27 schools. For each school, the mean score improvement, uncertainty on the mean, and number of hours each student spent studying was recorded.\n",
    "\n",
    "### Exercises\n",
    "\n",
    "a) Load the Five Districts dataset (five_districts.csv) and plot the data\n",
    "b) Determine the expected score improvement per hour studied for each school using three different models:\n",
    "\n",
    "+ i. A fully pooled model\n",
    "+ ii. Independent estimates for each district\n",
    "+ iii. A hierarchical model that asserts a relationship between the schools and districts.\n",
    "\n",
    "For all three cases, sample from the posterior using a sampling method of your choice. Test the sampler runs for convergence. Explore sampler behavior when using centered vs. off-centered parameterization.\n",
    "\n",
    "For the third option, draw the relationship as a directed acyclic graph. Justify your choices of distributions for parameters and hyper-parameters, and test your results for sensitivity to modeling choices.\n"
   ]
  },
  {
   "cell_type": "code",
   "execution_count": null,
   "id": "b1da3da3",
   "metadata": {},
   "outputs": [],
   "source": [
    "data = np"
   ]
  },
  {
   "cell_type": "markdown",
   "id": "ddc8353a",
   "metadata": {},
   "source": [
    "# Problem 3: Dyson Spheres\n",
    "\n",
    "Congratulations! You've detected a strange class of objects that you suspect are [Dyson spheres](https://en.wikipedia.org/wiki/Dyson_sphere). Your data are sparse, but you nonetheless detect hints of variability in each object's brightness.\n",
    "\n",
    "a) Load the Dyson Sphere dataset (dyson_spheres.csv) and plot the time series data. What do you notice about the relative amplitude variations?\n",
    "\n",
    "b) For each object, compute a Lomb-Scargle periodogram. What do you notice about the frequency-power plot?\n",
    "\n",
    "c) Assume that each object's time series can be modeled as a single-component sinusoid. Construct a hierarchical model for the population, asserting some population-level relationship between the amplitudes, frequencies, and phases for each object's sinusoid. Which parameters might be expected to be correlated or independent of one another?"
   ]
  },
  {
   "cell_type": "markdown",
   "id": "cf55ef0d",
   "metadata": {},
   "source": [
    "# Problem 4: Astrophysics\n",
    "\n",
    "Select an astrophysical dataset of your choosing. Describe any hierarchical structure in the data using a directed acyclic graph. Build a simple hierarchical model for the data. You may wish to use only a few member objects of your dataset in order to more rapidly iterate while developing."
   ]
  },
  {
   "cell_type": "code",
   "execution_count": null,
   "id": "48f1ea5b",
   "metadata": {},
   "outputs": [],
   "source": []
  }
 ],
 "metadata": {
  "kernelspec": {
   "display_name": "dsfp",
   "language": "python",
   "name": "python3"
  },
  "language_info": {
   "codemirror_mode": {
    "name": "ipython",
    "version": 3
   },
   "file_extension": ".py",
   "mimetype": "text/x-python",
   "name": "python",
   "nbconvert_exporter": "python",
   "pygments_lexer": "ipython3",
   "version": "3.9.22"
  }
 },
 "nbformat": 4,
 "nbformat_minor": 5
}
