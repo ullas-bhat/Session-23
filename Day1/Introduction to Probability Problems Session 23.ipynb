{
 "cells": [
  {
   "cell_type": "markdown",
   "id": "76cddb45",
   "metadata": {},
   "source": [
    "# Introduction to Probability - Problems\n",
    "\n",
    "### In this notebook, we'll work through some classic probability problems. Some will be \"easiest\" to implement in python, while others are best done with pen & paper."
   ]
  },
  {
   "cell_type": "markdown",
   "id": "978d7eb3",
   "metadata": {},
   "source": [
    "### Problem 1: The Birthday Problem\n",
    "\n",
    "A classic calculation is to calculate the probability that two people in today's DSFP session share the same birthday. You can approximate the number of people in the room as n=40 (~35 students, ~3 guest instructions, 1 slightly overwhelmed postdoc, and 1 Northwestern faculty member)."
   ]
  },
  {
   "cell_type": "markdown",
   "id": "bc425741",
   "metadata": {},
   "source": [
    "### Problem 1a: Is it easier to calculate this probabiltiy directly or by some other method? Discuss with those around you. "
   ]
  },
  {
   "cell_type": "markdown",
   "id": "b07f2047",
   "metadata": {},
   "source": [
    "### Problem 1b: What is the probability that no two people in the room share the same birthday? \n",
    "\n",
    "### Problem 1c: Using your answer to 1b, plot the probability of two people sharing the same birthday as a function of the number of people in the room. At what value of n does the probability exceed 50%? Is this result surprising to you?\n",
    "\n",
    "Hint: you may need the approximation that $(1 + x) \\approx e^x$ for |x|<<1.\n",
    "\n",
    "### Bonus Problem (to be completed in the lunch break): Find at least two DSFP attendees who share the same birthday. "
   ]
  },
  {
   "cell_type": "markdown",
   "id": "2d1c4a16",
   "metadata": {},
   "source": [
    "1a) It is easier to calculate as 1 - the probability that no two people share the same birthday. \n",
    "\n",
    "1b) this probability is (1 - 1/365) * (1-2/365), * (1-3/365), * ... $\\approx$ $ e^{-((n*(n-1)/2)/365))}$ \n",
    "\n",
    "1c) "
   ]
  },
  {
   "cell_type": "code",
   "execution_count": 2,
   "id": "043442a3",
   "metadata": {},
   "outputs": [],
   "source": [
    "import numpy as np\n",
    "import matplotlib.pyplot as plt"
   ]
  },
  {
   "cell_type": "code",
   "execution_count": 3,
   "id": "6663b1f1",
   "metadata": {},
   "outputs": [],
   "source": [
    "def birthday_probability(n):\n",
    "    return np.exp(-((n*(n-1)/2)/365))\n",
    "\n",
    "prob_list = []\n",
    "\n",
    "n = 365\n",
    "\n",
    "for k in np.linspace(0, 40, 39): \n",
    "    prob_list.append(birthday_probability(k))"
   ]
  },
  {
   "cell_type": "code",
   "execution_count": 12,
   "id": "aff46b7a",
   "metadata": {},
   "outputs": [
    {
     "data": {
      "text/plain": [
       "<matplotlib.lines.Line2D at 0x7fa249107070>"
      ]
     },
     "execution_count": 12,
     "metadata": {},
     "output_type": "execute_result"
    },
    {
     "data": {
      "image/png": "[encoded data removed]",
      "text/plain": [
       "<Figure size 432x288 with 1 Axes>"
      ]
     },
     "metadata": {
      "needs_background": "light"
     },
     "output_type": "display_data"
    }
   ],
   "source": [
    "plt.plot(np.linspace(0, 40, 39), prob_list, color = 'black')\n",
    "plt.axhline(0.5, 0, 40, ls = '--')\n",
    "plt.axvline(23, 0, 1, ls = '--')"
   ]
  },
  {
   "cell_type": "markdown",
   "id": "ce9ffe15",
   "metadata": {},
   "source": [
    "### [Pen & Paper] Problem 2: The Monty Hall Problem\n",
    "\n",
    "Another classic problem comes from the Monty Hall gameshow. On this game show, contestants are first asked to pick between several doors. Behind one of the doors is a large prize (a car, dream vacation, etc.) while the contestant goes home empty handed if they pick either of the other doors. The gameshow host then opens one of the doors that does not contain the prize. \n",
    "\n",
    "Now the clever bit. The contestant is then asked if they want to change their original choice of door for the other closed door. Your task is to make this choice for them. Assume for this problem that the context picks a door labelled n=1 and that the prize is contained behind door n=k. \n",
    "\n",
    "### Problem 2a) Getting started: applying the Principle of Indifference\n",
    "\n",
    "Before any doors are open, what is the conditional probability that the nth door contains a prize? \n",
    "\n",
    "$$ p(H_i | I) = 1/N $$\n",
    "\n",
    "By the principle of indifference. \n",
    "\n",
    "### Problem 2b) Conditioning on data\n",
    "\n",
    "Use the Bayes rule to write down the probability that the prize is behind the first door given observed doors $\\{d_k\\}$, k < n do not contain the prize. \n",
    "\n",
    "$$ p(H_1 | d_k, I) = \\frac{p(d_k | H_1, I) p(H_1 | I)}{p(d_k | I)} $$\n",
    "\n",
    "Then write down the probability that the kth door remains unopened given that $H_1$ is true.\n",
    "\n",
    "$$ p(d_k | H_1, I) = \\frac{1}{N-1} $$\n",
    "\n",
    "### Problem 2c) Law of total probability \n",
    "\n",
    "Use the law of total probability to write down an expression for the probability of observing $\\{d_k\\}$ open doors (w/o) prizes.\n",
    "\n",
    "$$ p(d_k | I) = \\Sigma_{i=1}^N p(d_k | H_i, I) p(H_i | I) $$\n",
    "\n",
    "### Problem 2d) The key idea\n",
    "\n",
    "Write down the probability that the kth door stays unopened given that H_i = the hypothesis that the ith door contains the prize remains unopened. \n",
    "\n",
    "$$ p(d_k | H_i, I) =  \\left\\{\n",
    "\\begin{array}{ll}\n",
    "      1 & \\text{for k = i} \\\\\n",
    "      0 & \\text{otherwise} \\\\\n",
    "\\end{array} \n",
    "\\right.  $$\n",
    "\n",
    "except when i = 1. This is the important bit. This encodes that the game show host will not open a door that contains the prize until there are only two remaining doors. This means that the game show host (who knows which door contains the prize) is telling the contestant that the prize something about where the prize is. \n",
    "\n",
    "Then, using your answer to 2c), what is the probability of observing the first $\\{d_k\\}$ doors open w/o prizes?\n",
    "\n",
    "$$ p(d_k | I) = \\frac{1}{(N-1) N} + \\frac{1}{N} = \\frac{1}{N-1}$$\n",
    "\n",
    "### Problem 2e) Should the contestant switch doors?\n",
    "\n",
    "Combine your answer to 2b) and 2d) to give the probability that the prize is behind the first door. Then use the axioms of probability theory to compute the probability that the prize is behind the final (kth) door. Should the person switch?\n",
    "\n",
    "Combining results, the probability that the prize is behind the initially chosen door is then $1/N$. And the law of total probability implies that the probability must be behind the last remaining door is \n",
    "\n",
    "$$ 1 - \\frac{1}{N} = \\frac{N-1}{N}$$\n",
    "\n",
    "Larger by a factor of N-1. "
   ]
  },
  {
   "cell_type": "markdown",
   "id": "8a5c6c3c",
   "metadata": {},
   "source": [
    "### Problem 3: Boolean Logic\n",
    "\n",
    "An alternative interpretation of probability theory is that it represents an extension of classical logic to possibilities or plausibilities. In this sense, probability theory is a new kind of logic, and not statements about long run frequencies of events. In this problem, you'll explore the boolean logic that forms the basis for this perspective. While interesting for the development of probability theory, these are also useful skills for general programming tasks. \n",
    "\n",
    "We define the logical product and denote it by the symbol AB, which means that both propositions A and B are true. \n",
    "\n",
    "We define the logical sum and denote it by the symbol A + B, which means that at least one of the proopsitions A, or B is true. A + B = B + A. \n",
    "\n",
    "### Problem 3a) Generate two arrays, A and B, with randomly distributed numbers.\n",
    "\n",
    "### Problem 3b) Create two arrays, one consisting of booleans when the value of the A array and B array are > 0.5 \n",
    "\n",
    "### Problem 3c) Use the arrays from 3b) to create an array consisting only of the values in A where both A and B are greater than 0.5\n",
    "\n",
    "### Problem 3d) Do the same, except for where either A or B are greater than 0.5. "
   ]
  },
  {
   "cell_type": "markdown",
   "id": "743b4a42",
   "metadata": {},
   "source": [
    "## Problem 4: Probability Transformations in Astronomy\n",
    "\n",
    "This example comes from the AstroML book, and is a famous example of where a common transformation in astronomy does not preserve all of the properties of the underlying distribution. \n",
    "\n",
    "### Problem 4a) Generate some underlying normally distributed flux data\n",
    "\n",
    "Hint: you can do this most easily with scipy.stats.norm(), norm.rvs. Your life in 4d) will be slightly easier if you generate an odd number of samples.\n",
    "\n",
    "### Problem 4b) Transform fluxes to magnitudes\n",
    "\n",
    "The magnitude of a source is defined as mag $= -2.5 \\log_{10}(F)$. transform your normally distributed flux data to magnitudes. \n",
    "\n",
    "### Problem 4c) Plot your results\n",
    "\n",
    "Plot the flux and magnitude distribution. How has the transformation changed the shape of the distribution?\n",
    "\n",
    "### Problem 4d) Cumulative Distribution Function\n",
    "\n",
    "Plot the CDF of each distribution and discuss the properties of the CDF. Then compute the 25th, 50th, and 75th percentiles of both distributions and determine what data point each maps to. The CDF, median, and percentiles form the basis for many statistical tests of distribution similarity."
   ]
  },
  {
   "cell_type": "code",
   "execution_count": 18,
   "id": "c4db8e54",
   "metadata": {},
   "outputs": [
    {
     "data": {
      "image/png": "[encoded data removed]",
      "text/plain": [
       "<Figure size 360x180 with 2 Axes>"
      ]
     },
     "metadata": {
      "needs_background": "light"
     },
     "output_type": "display_data"
    },
    {
     "data": {
      "text/plain": [
       "(array([0.000e+00, 0.000e+00, 0.000e+00, 0.000e+00, 0.000e+00, 0.000e+00,\n",
       "        0.000e+00, 0.000e+00, 0.000e+00, 0.000e+00, 0.000e+00, 0.000e+00,\n",
       "        0.000e+00, 0.000e+00, 0.000e+00, 0.000e+00, 0.000e+00, 1.000e+00,\n",
       "        1.000e+00, 7.000e+00, 1.600e+01, 4.600e+01, 8.500e+01, 1.640e+02,\n",
       "        2.990e+02, 4.890e+02, 8.160e+02, 1.239e+03, 1.788e+03, 2.533e+03,\n",
       "        3.370e+03, 4.298e+03, 5.304e+03, 6.273e+03, 7.165e+03, 7.939e+03,\n",
       "        8.555e+03, 9.031e+03, 9.345e+03, 9.619e+03, 9.787e+03, 9.895e+03,\n",
       "        9.943e+03, 9.967e+03, 9.984e+03, 9.991e+03, 9.996e+03, 9.999e+03,\n",
       "        1.000e+04]),\n",
       " array([-1.        , -0.93877551, -0.87755102, -0.81632653, -0.75510204,\n",
       "        -0.69387755, -0.63265306, -0.57142857, -0.51020408, -0.44897959,\n",
       "        -0.3877551 , -0.32653061, -0.26530612, -0.20408163, -0.14285714,\n",
       "        -0.08163265, -0.02040816,  0.04081633,  0.10204082,  0.16326531,\n",
       "         0.2244898 ,  0.28571429,  0.34693878,  0.40816327,  0.46938776,\n",
       "         0.53061224,  0.59183673,  0.65306122,  0.71428571,  0.7755102 ,\n",
       "         0.83673469,  0.89795918,  0.95918367,  1.02040816,  1.08163265,\n",
       "         1.14285714,  1.20408163,  1.26530612,  1.32653061,  1.3877551 ,\n",
       "         1.44897959,  1.51020408,  1.57142857,  1.63265306,  1.69387755,\n",
       "         1.75510204,  1.81632653,  1.87755102,  1.93877551,  2.        ]),\n",
       " [<matplotlib.patches.Polygon at 0x7fd1497c1b20>])"
      ]
     },
     "execution_count": 18,
     "metadata": {},
     "output_type": "execute_result"
    },
    {
     "data": {
      "image/png": "[encoded data removed]",
      "text/plain": [
       "<Figure size 432x288 with 1 Axes>"
      ]
     },
     "metadata": {
      "needs_background": "light"
     },
     "output_type": "display_data"
    }
   ],
   "source": [
    "# Solution heavily based on the one given by Jake VanderPlas as part of the astroml documentation\n",
    "\n",
    "\n",
    "import numpy as np\n",
    "from matplotlib import pyplot as plt\n",
    "from scipy.stats import norm\n",
    "\n",
    "\n",
    "#------------------------------------------------------------\n",
    "# Create our data\n",
    "\n",
    "# generate 10000 normally distributed points\n",
    "np.random.seed(1)\n",
    "dist = norm(1, 0.25)\n",
    "flux = dist.rvs(10001)\n",
    "flux_fit = np.linspace(0.001, 2, 1000)\n",
    "pdf_flux_fit = dist.pdf(flux_fit)\n",
    "cdf_flux_fit = dist.cdf(flux_fit)\n",
    "\n",
    "# transform this distribution into magnitude space\n",
    "mag = -2.5 * np.log10(flux)\n",
    "mag_fit = -2.5 * np.log10(flux_fit)\n",
    "\n",
    "\n",
    "\n",
    "#------------------------------------------------------------\n",
    "# Plot the result\n",
    "fig = plt.figure(figsize=(5, 2.5))\n",
    "fig.subplots_adjust(bottom=0.17, top=0.9,\n",
    "                    left=0.12, right=0.95, wspace=0.3)\n",
    "\n",
    "# first plot the flux distribution\n",
    "ax = fig.add_subplot(121)\n",
    "ax.hist(flux, bins=np.linspace(0, 2, 50),\n",
    "        histtype='stepfilled', fc='gray', alpha=0.5, density=True)\n",
    "ax.plot([1, 1], [0, 2], ':k', lw=1)\n",
    "ax.set_xlim(-0.1, 2.1)\n",
    "ax.set_ylim(0, 1.8)\n",
    "\n",
    "ax.set_xlabel(r'${\\rm flux}$')\n",
    "ax.set_ylabel(r'$p({\\rm flux})$')\n",
    "ax.yaxis.set_major_locator(plt.MultipleLocator(0.4))\n",
    "ax.text(0.04, 0.95, r'${\\rm 20\\%\\ flux\\ error}$',\n",
    "        ha='left', va='top', transform=ax.transAxes)\n",
    "\n",
    "# next plot the magnitude distribution\n",
    "ax = fig.add_subplot(122)\n",
    "ax.hist(mag, bins=np.linspace(-1, 2, 50),\n",
    "        histtype='stepfilled', fc='gray', alpha=0.5, density=True)\n",
    "ax.plot([0, 0], [0, 2], ':k', lw=1)\n",
    "ax.set_xlim(-1.1, 1.1)\n",
    "ax.set_ylim(0, 1.8)\n",
    "ax.yaxis.set_major_locator(plt.MultipleLocator(0.4))\n",
    "ax.text(0.04, 0.95, r'${\\rm mag} = -2.5\\log_{10}({\\rm flux})$',\n",
    "        ha='left', va='top', transform=ax.transAxes)\n",
    "\n",
    "ax.set_xlabel(r'${\\rm mag}$')\n",
    "ax.set_ylabel(r'$p({\\rm mag})$')\n",
    "\n",
    "plt.show()\n",
    "\n",
    "plt.hist(mag, bins=np.linspace(-1, 2, 50),\n",
    "        histtype='stepfilled', fc='gray', alpha=0.5, cumulative = True)\n",
    "\n",
    "plt.hist(flux, bins=np.linspace(-1, 2, 50),\n",
    "        histtype='stepfilled', fc='gray', alpha=0.5, cumulative = True)"
   ]
  },
  {
   "cell_type": "code",
   "execution_count": 19,
   "id": "531aacee",
   "metadata": {},
   "outputs": [
    {
     "data": {
      "text/plain": [
       "(array([1341]),)"
      ]
     },
     "execution_count": 19,
     "metadata": {},
     "output_type": "execute_result"
    }
   ],
   "source": [
    "np.where(flux == np.median(flux))"
   ]
  },
  {
   "cell_type": "code",
   "execution_count": 20,
   "id": "e3798789",
   "metadata": {},
   "outputs": [
    {
     "data": {
      "text/plain": [
       "(array([1341]),)"
      ]
     },
     "execution_count": 20,
     "metadata": {},
     "output_type": "execute_result"
    }
   ],
   "source": [
    "np.where(mag == np.median(mag))"
   ]
  },
  {
   "cell_type": "code",
   "execution_count": 17,
   "id": "e687b2cb",
   "metadata": {},
   "outputs": [
    {
     "data": {
      "text/plain": [
       "array([], dtype=float64)"
      ]
     },
     "execution_count": 17,
     "metadata": {},
     "output_type": "execute_result"
    }
   ],
   "source": [
    "mag[mag == np.median(mag)]"
   ]
  },
  {
   "cell_type": "markdown",
   "id": "e5fe09e1",
   "metadata": {},
   "source": [
    "### Challenge Problem: From where does randomness come from?"
   ]
  },
  {
   "cell_type": "markdown",
   "id": "349416df",
   "metadata": {},
   "source": [
    "As astronomers, we know that there are two exclusively correct theories of nature. Classical mechanics and general relativity and no others. Given that both of these theories are deterministic, from where does randomnness come from? \n",
    "\n",
    "One way that people have approached this question is by positing that randomness (or probability) are empirical facts - something we see in the behaivor of a rolled die or a flipped coin. In fact, if we flip a coin a large number of times, it does approach a 1/2 H 1/2 T distribution. \n",
    "\n",
    "This has never quite made sense to me. We assume that both outcomes are equally likely based on the principle of indifference. But a coin is not in an indifferent starting state - one side is typically face up before you flip it. How can we explain the equally likely outcomes?\n",
    "\n",
    "Start by writing down the equations of motion for the coin as it moves through the air (and rotates). Once you have done that, plot the 'pre-image' (space of initial conditions) that lead to H and T outcomes. Explain why coins have a 1/2 H and 1/2 T long-run distribution and speculate on the origin of randomness. "
   ]
  },
  {
   "cell_type": "code",
   "execution_count": null,
   "id": "1255665f",
   "metadata": {},
   "outputs": [],
   "source": []
  }
 ],
 "metadata": {
  "kernelspec": {
   "display_name": "Python 3 (ipykernel)",
   "language": "python",
   "name": "python3"
  },
  "language_info": {
   "codemirror_mode": {
    "name": "ipython",
    "version": 3
   },
   "file_extension": ".py",
   "mimetype": "text/x-python",
   "name": "python",
   "nbconvert_exporter": "python",
   "pygments_lexer": "ipython3",
   "version": "3.9.12"
  }
 },
 "nbformat": 4,
 "nbformat_minor": 5
}
