{
 "cells": [
  {
   "cell_type": "markdown",
   "id": "3bf94906",
   "metadata": {},
   "source": [
    "# Problem 1: Importance Sampling\n",
    "\n",
    "Load the Line Fitting dataset (line_fitting.csv) and plot the data.\n",
    "\n",
    "Fit a model to the data using:\n",
    "a. Uniform priors on all parameters\n",
    "b. Modestly informative Gaussian priors on all parameters\n",
    "c. Strongly informative Gaussian priors on all parameters\n",
    "\n",
    "Draw samples from the posterior using any sampler of your choosing.\n",
    "\n",
    "After sampling in cases (b) and (c), calculate importance weights and resample your posteriors in order to \"undo\" the informative prior. This step will create a vector of unweighted posterior samples from your original vector of weighted posterior samples. Verify that after importance sampling your results are equivalent to what you obtained in case (a).\n",
    "\n",
    "Examine the posterior distributions. Do you see any numerical noise or other sampling artifacts introduced by importance sampling?"
   ]
  },
  {
   "cell_type": "markdown",
   "id": "a18c95d7",
   "metadata": {},
   "source": [
    "# Problem 2: Umbrella Sampling Tutorial\n",
    "\n",
    "Work through the umbrella sampling tutorial here: https://gjgilbert.github.io/tutorials/umbrella_sampling/\n",
    "\n",
    "Once you complete the tutorial, return to the Line Fitting dataset from Problem 1. Fit a model using umbrella sampling. You'll need to choose how to define your umbrella windows and biases - there are many possible solutions! After sampling from individual umbrellas, combine your samples into a single set of posterior samples. Verify that the results you obtain from umbrella sampling are equivalent to the results you obtain from other methods."
   ]
  },
  {
   "cell_type": "markdown",
   "id": "3e3639b7",
   "metadata": {},
   "source": [
    "# Problem 3: Reparameterizing a Model\n",
    "\n",
    "Read in the Two Component Sinusoid dataset (two_component_sinusoid.csv) and plot the data.\n",
    "\n",
    "Fit a model using the most \"obvious\" parameterization:\n",
    "\n",
    "$y(x) = A_1 \\sin(2\\pi f_1 x - \\phi_1 + A_2 \\sin(2\\pi f_2 x - \\phi_2)$\n",
    "\n",
    "Place appropriate independent priors on each of the six free parameters. Try fitting a model, drawing samples using a sampler of your choosing. Check for convergence and assess the quality of your results. Re-run your model a few times and check if your results remain consistent from run-to-run.\n",
    "\n",
    "You will probably not acheive a very good fit using this parameterization. Why is this parameterization problematic? Re-parameterize the model in order to get a more robust fit. Check for convergence and that your posteriors remain consistent from run-to-run."
   ]
  },
  {
   "cell_type": "code",
   "execution_count": null,
   "id": "566b8e97",
   "metadata": {},
   "outputs": [],
   "source": []
  }
 ],
 "metadata": {
  "kernelspec": {
   "display_name": "Python 3 (ipykernel)",
   "language": "python",
   "name": "python3"
  },
  "language_info": {
   "codemirror_mode": {
    "name": "ipython",
    "version": 3
   },
   "file_extension": ".py",
   "mimetype": "text/x-python",
   "name": "python",
   "nbconvert_exporter": "python",
   "pygments_lexer": "ipython3",
   "version": "3.9.22"
  }
 },
 "nbformat": 4,
 "nbformat_minor": 5
}
