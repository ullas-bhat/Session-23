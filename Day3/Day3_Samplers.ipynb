{
 "cells": [
  {
   "cell_type": "markdown",
   "id": "4b5dee9b",
   "metadata": {},
   "source": [
    "# Problem 1: Random Walk Monte Carlo\n",
    "\n",
    "Load the Line Fitting dataset (line_fitting.csv) and plot the data.\n",
    "\n",
    "Write your own Random Walk MCMC algorithm from scratch. Don't worry if it is slow or inefficient - this exercise is about intuition building, not results. Use your sampler to fit a line to the data and generate samples from the posterior. For a first pass, run the sampler for a fixed number of steps, $N$. Then, modify the sampler to automatically stop running when a target number of effective samples $N_{\\rm eff}$ has been reached."
   ]
  },
  {
   "cell_type": "markdown",
   "id": "28c2316d",
   "metadata": {},
   "source": [
    "# Problem 2: Fitting a Line\n",
    "\n",
    "Load the Line Fitting dataset (line_fitting.csv) and plot the data.\n",
    "\n",
    "a) Fit the data using an ensemble sampler of your choice (recommendation: `emcee`)\n",
    "\n",
    "b) Fit the data using a Hamiltonian Monte Carlo Sampler of your choice (recommendation: `PyMC` or `NumPyro`)\n",
    "\n",
    "c) Fit the data using a nested sampler of your choice (recommendation: `dynesty`, `UltraNest`)\n",
    "\n",
    "For all three cases, explicity write down the likelihood function; the `emcee` documentation has a clear explanation of how to do this. For Nested Sampling, you will also need to write a prior transform function; the `dynesty` documentation has a clear explanation of how to do this. Play around with using different priors (e.g. Gaussian, Uniform, Log-Uniform) to get a feel for the syntax of the different packages."
   ]
  },
  {
   "cell_type": "markdown",
   "id": "cf55ef0d",
   "metadata": {},
   "source": [
    "# Problem 3: Astrophysics\n",
    "\n",
    "Select an astrophysical dataset of your choosing. Fit the data using (a) an ensemble sampler, (b) HMC, and (c) Nested Sampling. Verify that the three methods produce equivalent results."
   ]
  }
 ],
 "metadata": {
  "kernelspec": {
   "display_name": "Python 3 (ipykernel)",
   "language": "python",
   "name": "python3"
  },
  "language_info": {
   "codemirror_mode": {
    "name": "ipython",
    "version": 3
   },
   "file_extension": ".py",
   "mimetype": "text/x-python",
   "name": "python",
   "nbconvert_exporter": "python",
   "pygments_lexer": "ipython3",
   "version": "3.9.22"
  }
 },
 "nbformat": 4,
 "nbformat_minor": 5
}
